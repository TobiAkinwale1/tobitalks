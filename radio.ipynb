{
 "cells": [
  {
   "cell_type": "markdown",
   "metadata": {},
   "source": [
    "New app\n"
   ]
  },
  {
   "cell_type": "code",
   "execution_count": 1,
   "metadata": {},
   "outputs": [
    {
     "name": "stdout",
     "output_type": "stream",
     "text": [
      "ChatCompletionMessage(content='In the land of code where logic reigns,  \\nA curious tale of recursion remains.  \\nA function calls itself, a playful dance,  \\nIn a loop of thought, it takes a chance.  \\n\\nLike a mirror reflecting a mirror\\'s gaze,  \\nEach call, a layer in a thoughtful maze.  \\n\"Dear function,\" it whispers, \"come join the fun,\"  \\n\"I\\'ll send you a task when your first one is done.\"  \\n\\n\"Divide and conquer,\" the wise ones say,  \\nBreak problems to parts, chart a clearer way.  \\nBut heed the base case, that guiding light,  \\nFor without an endpoint, you\\'ll spiral from sight.  \\n\\nImagine a tale of a ten-story tower,  \\nWhere each floor needs cleaning, a tedious hour.  \\nStart at the top, let the function descend,  \\nCleaning each floor, till it reaches the end.  \\n\\n\"Clean me,\" cries floor ten, but just wait a while,  \\nFor floor nine needs touching with each recursive smile.  \\nSo the function calls back, down the floors it goes,  \\nEach call stacking up like a well-placed rose.  \\n\\nAt the base, it gases with a gentle sigh,  \\n\"Floor one is clean!\" then it starts to fly.  \\nNow back through the stories in reverse it must weave,  \\nCompleting the task that it once did conceive.  \\n\\nWith each step returning, the journey unfolds,  \\nRecursion, a dance with infinite folds.  \\nSo remember this lesson in code that you write,  \\nWith a base case in sight, recursion takes flight.  \\n\\nIn the grand tapestry of logic and rhyme,  \\nEmbrace recursion—it saves you great time!  \\nLike echoes in valleys, each call sings clear,  \\nIn the world of programming, recursion brings cheer!  ', role='assistant', function_call=None, tool_calls=None)\n"
     ]
    }
   ],
   "source": [
    "import gradio as gr\n",
    "from pathlib import Path\n",
    "import pandas as pd\n",
    "import os\n",
    "import time\n",
    "\n",
    "from dotenv import load_dotenv\n",
    "from openai import OpenAI\n",
    "\n",
    "load_dotenv(\"config.env\")\n",
    "\n",
    "client = OpenAI()\n",
    "\n",
    "completion = client.chat.completions.create(\n",
    "  model=\"gpt-4o-mini\",\n",
    "  messages=[\n",
    "    {\"role\": \"system\", \"content\": \"You are Tobi, a knowledgeable assistant.\"},\n",
    "    {\"role\": \"user\", \"content\": \"Compose a poem that explains the concept of recursion in programming.\"}\n",
    "  ]\n",
    ")\n",
    "\n",
    "print(completion.choices[0].message)\n"
   ]
  },
  {
   "cell_type": "code",
   "execution_count": 1,
   "metadata": {},
   "outputs": [
    {
     "name": "stdout",
     "output_type": "stream",
     "text": [
      "Using cache from '/Users/tobivalentine/Documents/GitHub/webdesign/gradio_cached_examples/15' directory. If method or examples have changed since last caching, delete this folder to clear cache.\n",
      "\n",
      "Running on local URL:  http://127.0.0.1:7860\n",
      "Running on public URL: https://3cee26185983fb187c.gradio.live\n",
      "\n",
      "This share link expires in 72 hours. For free permanent hosting and GPU upgrades, run `gradio deploy` from Terminal to deploy to Spaces (https://huggingface.co/spaces)\n"
     ]
    },
    {
     "data": {
      "text/html": [
       "<div><iframe src=\"https://3cee26185983fb187c.gradio.live\" width=\"100%\" height=\"500\" allow=\"autoplay; camera; microphone; clipboard-read; clipboard-write;\" frameborder=\"0\" allowfullscreen></iframe></div>"
      ],
      "text/plain": [
       "<IPython.core.display.HTML object>"
      ]
     },
     "metadata": {},
     "output_type": "display_data"
    },
    {
     "data": {
      "text/plain": []
     },
     "execution_count": 1,
     "metadata": {},
     "output_type": "execute_result"
    }
   ],
   "source": [
    "import gradio as gr\n",
    "import json\n",
    "\n",
    "from openai import OpenAI\n",
    "import gradio as gr\n",
    "from dotenv import load_dotenv\n",
    "load_dotenv(\"config.env\")\n",
    "\n",
    "with open('public/knowledge.json', 'r') as file:\n",
    "    knowledge_data = json.load(file)\n",
    "\n",
    "client = OpenAI()\n",
    "\n",
    "def predict(message, history):\n",
    "    knowledge_content = json.dumps(knowledge_data)\n",
    "    system_message = {\"role\": \"system\", \"content\": f\"You are a helpful assistant named Tobi. sometimes you answer the questions in pidgin english. Here is some additional knowledge: {knowledge_content}\"}\n",
    "    history_openai_format = [system_message]\n",
    "    for human, assistant in history:\n",
    "        history_openai_format.append({\"role\": \"user\", \"content\": human })\n",
    "        history_openai_format.append({\"role\": \"assistant\", \"content\":assistant})\n",
    "    history_openai_format.append({\"role\": \"user\", \"content\": message})\n",
    "  \n",
    "    response = client.chat.completions.create(model='gpt-4o-mini',\n",
    "    messages= history_openai_format,\n",
    "    temperature=1.0,\n",
    "    stream=True)\n",
    "\n",
    "    partial_message = \"\"\n",
    "    for chunk in response:\n",
    "        if chunk.choices[0].delta.content is not None:\n",
    "              partial_message = partial_message + chunk.choices[0].delta.content\n",
    "              yield partial_message\n",
    "\n",
    "\n",
    "gr.ChatInterface(\n",
    "    predict,\n",
    "    chatbot=gr.Chatbot(height=500),\n",
    "    textbox=gr.Textbox(placeholder=\"Ask me a yes or no question\", container=False, scale=7),\n",
    "    title=\"Tobi-Talks\",\n",
    "    description=\"Ask me anytin wey dey your mind\",\n",
    "    theme=\"HaleyCH/HaleyCH_Theme\",\n",
    "    examples=[\"How you dey\", \"Wetin dey for your side?\", \"You get tips for business?\"],\n",
    "    cache_examples=True,\n",
    "    retry_btn=None,\n",
    "    undo_btn=\"Delete Previous\",\n",
    "    clear_btn=\"Clear\",\n",
    ").launch(share=True)"
   ]
  },
  {
   "cell_type": "code",
   "execution_count": null,
   "metadata": {},
   "outputs": [],
   "source": []
  }
 ],
 "metadata": {
  "kernelspec": {
   "display_name": "base",
   "language": "python",
   "name": "python3"
  },
  "language_info": {
   "codemirror_mode": {
    "name": "ipython",
    "version": 3
   },
   "file_extension": ".py",
   "mimetype": "text/x-python",
   "name": "python",
   "nbconvert_exporter": "python",
   "pygments_lexer": "ipython3",
   "version": "3.11.5"
  }
 },
 "nbformat": 4,
 "nbformat_minor": 2
}
